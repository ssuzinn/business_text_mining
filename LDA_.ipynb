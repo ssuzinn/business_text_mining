{
 "cells": [
  {
   "cell_type": "code",
   "execution_count": 1,
   "metadata": {},
   "outputs": [
    {
     "data": {
      "text/html": [
       "        <script type=\"text/javascript\">\n",
       "        window.PlotlyConfig = {MathJaxConfig: 'local'};\n",
       "        if (window.MathJax) {MathJax.Hub.Config({SVG: {font: \"STIX-Web\"}});}\n",
       "        if (typeof require !== 'undefined') {\n",
       "        require.undef(\"plotly\");\n",
       "        requirejs.config({\n",
       "            paths: {\n",
       "                'plotly': ['https://cdn.plot.ly/plotly-latest.min']\n",
       "            }\n",
       "        });\n",
       "        require(['plotly'], function(Plotly) {\n",
       "            window._Plotly = Plotly;\n",
       "        });\n",
       "        }\n",
       "        </script>\n",
       "        "
      ]
     },
     "metadata": {},
     "output_type": "display_data"
    }
   ],
   "source": [
    "import os\n",
    "import json\n",
    "import re\n",
    "from tqdm import tqdm,tqdm_pandas\n",
    "import pandas as pd\n",
    "import numpy as np\n",
    "from kiwipiepy import Kiwi\n",
    "from datetime import datetime\n",
    "\n",
    "import chart_studio.plotly.plotly as py\n",
    "import cufflinks as cf\n",
    "cf.go_offline(connected=True)"
   ]
  },
  {
   "cell_type": "markdown",
   "metadata": {},
   "source": [
    "# Data load"
   ]
  },
  {
   "cell_type": "code",
   "execution_count": 2,
   "metadata": {},
   "outputs": [],
   "source": [
    "def data_load(name):\n",
    "    with open(f'crawl_result/{name}.json','r',encoding='utf-8')as f:\n",
    "        data=json.load(f)\n",
    "        DF=pd.DataFrame(data['data'])\n",
    "    return DF"
   ]
  },
  {
   "cell_type": "code",
   "execution_count": 3,
   "metadata": {},
   "outputs": [],
   "source": [
    "QA=data_load('wineQ&A_text')\n",
    "rec=data_load('wine_recommend_text')"
   ]
  },
  {
   "cell_type": "code",
   "execution_count": 4,
   "metadata": {},
   "outputs": [],
   "source": [
    "def clean_text(text):\n",
    "    emoji_pattern = re.compile(\"[\"\n",
    "        u\"\\U0001F600-\\U0001F64F\"  # emoticons\n",
    "        u\"\\U0001F300-\\U0001F5FF\"  # symbols & pictographs\n",
    "        u\"\\U0001F680-\\U0001F6FF\"  # transport & map symbols\n",
    "        u\"\\U0001F1E0-\\U0001F1FF\"  # flags (iOS)\n",
    "                           \"]+\", flags=re.UNICODE)\n",
    "    text=emoji_pattern.sub(r'', text)\n",
    "    re_pattern = r'http[s]?://(?:[a-zA-Z]|[0-9]|[$-_@.&+]|[!*\\\\(\\\\),|]|(?:%[0-9a-fA-F][0-9a-fA-F]))+'\n",
    "    text = re.sub(re_pattern, 'url', text)\n",
    "    text = re.sub('\\([^)]*\\)', ',', text)\n",
    "    text = re.sub('\\[[^)]*\\]', ',', text)\n",
    "    text=re.sub('[^ㄱ-ㅎ ㅏ-ㅣ가-힣A-Za-z0-9!?]+',' ',text)\n",
    "    text=re.sub('[\\\\s+ *]',' ',text)\n",
    "    return text"
   ]
  },
  {
   "cell_type": "code",
   "execution_count": 5,
   "metadata": {},
   "outputs": [],
   "source": [
    "def cleaning(DF):\n",
    "    DF['clean_content']=DF.본문.apply(lambda x:clean_text(x))\n",
    "    DF['clean_title']=DF.제목.apply(lambda x:clean_text(x))\n",
    "    DF['contents']=DF.clean_title+DF.clean_content\n",
    "    return DF"
   ]
  },
  {
   "cell_type": "code",
   "execution_count": 6,
   "metadata": {},
   "outputs": [],
   "source": [
    "QA=cleaning(QA)\n",
    "REC=cleaning(rec)"
   ]
  },
  {
   "cell_type": "code",
   "execution_count": 7,
   "metadata": {},
   "outputs": [],
   "source": [
    "QA['date']=QA.날짜.apply(lambda x: datetime.strptime(''.join(x.split('.')[:3]),'%Y%m%d'))"
   ]
  },
  {
   "cell_type": "code",
   "execution_count": 8,
   "metadata": {},
   "outputs": [],
   "source": [
    "Date_count=QA.groupby('date').count().loc[:,'본문']"
   ]
  },
  {
   "cell_type": "code",
   "execution_count": 9,
   "metadata": {},
   "outputs": [
    {
     "data": {
      "text/plain": [
       "date\n",
       "2020-12-24    35\n",
       "2020-10-15    31\n",
       "2021-01-03    30\n",
       "2020-12-25    29\n",
       "2020-12-23    29\n",
       "2021-05-11    28\n",
       "2021-05-12    28\n",
       "2021-04-15    27\n",
       "2020-10-17    27\n",
       "2021-05-15    27\n",
       "Name: 본문, dtype: int64"
      ]
     },
     "execution_count": 9,
     "metadata": {},
     "output_type": "execute_result"
    }
   ],
   "source": [
    "Date_count.sort_values(ascending=False)[:10]"
   ]
  },
  {
   "cell_type": "code",
   "execution_count": null,
   "metadata": {},
   "outputs": [],
   "source": []
  },
  {
   "cell_type": "code",
   "execution_count": 10,
   "metadata": {},
   "outputs": [],
   "source": [
    "#Date_count.iplot(kind='bar',colors='Red')"
   ]
  },
  {
   "cell_type": "code",
   "execution_count": 11,
   "metadata": {},
   "outputs": [
    {
     "data": {
      "text/plain": [
       "45.2910899142265"
      ]
     },
     "execution_count": 11,
     "metadata": {},
     "output_type": "execute_result"
    }
   ],
   "source": [
    "Date_count.var()"
   ]
  },
  {
   "cell_type": "markdown",
   "metadata": {},
   "source": [
    "# 띄어쓰기 교정\n"
   ]
  },
  {
   "cell_type": "code",
   "execution_count": null,
   "metadata": {},
   "outputs": [],
   "source": [
    "#! pip install git+https://github.com/ssut/py-hanspell.git"
   ]
  },
  {
   "cell_type": "code",
   "execution_count": null,
   "metadata": {},
   "outputs": [],
   "source": [
    "from hanspell import spell_checker\n",
    "sent = QA.contents[3]\n",
    "spelled_sent = spell_checker.check(sent)\n",
    "\n",
    "hanspell_sent = spelled_sent.checked\n",
    "print(hanspell_sent)"
   ]
  },
  {
   "cell_type": "code",
   "execution_count": null,
   "metadata": {},
   "outputs": [],
   "source": [
    "tqdm.pandas()\n",
    "QA['spell_check_contents']=QA.contents.progress_apply(lambda x: spell_checker.check(x).checked \n",
    "                                                      if spell_checker.check(x).checked !='' else x\n",
    "                                                     )"
   ]
  },
  {
   "cell_type": "code",
   "execution_count": null,
   "metadata": {},
   "outputs": [],
   "source": [
    "#QA.spell_check_contents[5]"
   ]
  },
  {
   "cell_type": "code",
   "execution_count": null,
   "metadata": {},
   "outputs": [],
   "source": [
    "QA.to_csv('crawl_result/Q&Adata.csv')"
   ]
  },
  {
   "cell_type": "code",
   "execution_count": null,
   "metadata": {},
   "outputs": [],
   "source": [
    "import matplotlib.font_manager as font_manager\n",
    "font_list = font_manager.findSystemFonts(fontpaths=None, fontext='ttf')\n",
    "# 처음 10개만 출력\n",
    "font_list[:-10]"
   ]
  },
  {
   "cell_type": "code",
   "execution_count": null,
   "metadata": {},
   "outputs": [],
   "source": [
    "import matplotlib.pyplot as plt\n",
    "from matplotlib import font_manager, rc\n",
    "\n",
    "def show_contents_length(DF):\n",
    "    font_name = font_manager.FontProperties(fname='/System/Library/Fonts/Supplemental/Arial Narrow Bold Italic.ttf'\n",
    "                                           ).get_name()\n",
    "    rc('font', family=font_name,size=15)\n",
    "    plt.figure(figsize=(10, 8))\n",
    "    print('컨텐츠의 최대 길이 :',max(len(l) for l in  DF.contents))\n",
    "    print('컨텐츠의 평균 길이 :',sum(map(len, QA.contents))/len(DF.contents))\n",
    "    plt.hist([len(s) for s in DF.contents], bins=50,color='#d62728')\n",
    "    plt.xlabel('length of contents')\n",
    "    plt.ylabel('number of contents')\n",
    "    plt.show()"
   ]
  },
  {
   "cell_type": "code",
   "execution_count": null,
   "metadata": {},
   "outputs": [],
   "source": [
    "show_contents_length(QA)"
   ]
  },
  {
   "cell_type": "code",
   "execution_count": null,
   "metadata": {},
   "outputs": [],
   "source": []
  },
  {
   "cell_type": "markdown",
   "metadata": {},
   "source": [
    "# Tokeninzing"
   ]
  },
  {
   "cell_type": "code",
   "execution_count": 12,
   "metadata": {},
   "outputs": [],
   "source": [
    "from soynlp.utils import DoublespaceLineCorpus\n",
    "from soynlp.word import WordExtractor\n",
    "from soynlp.tokenizer import MaxScoreTokenizer\n",
    "from gensim.models import Word2Vec\n",
    "from soynlp.noun import LRNounExtractor_v2\n",
    "\n",
    "\n",
    "def soytokenizer(DF):\n",
    "    S=DF.contents\n",
    "    corpus = DoublespaceLineCorpus(S, iter_sent=True)\n",
    "    word_extractor = WordExtractor(min_frequency=2,\n",
    "        min_cohesion_forward=0.5, \n",
    "        min_right_branching_entropy=0.0\n",
    "    )\n",
    "    word_extractor.train(S) # list of str or like\n",
    "    words = word_extractor.extract()\n",
    "    \n",
    "#     noun_extractor = LRNounExtractor_v2(verbose=True)\n",
    "#     noun_extractor.train(S) \n",
    "#     nouns = noun_extractor.train_extract(S)\n",
    "\n",
    "    cohesion_score = {word:score.cohesion_forward for word, score in words.items() if 1.0 > score.cohesion_forward >=0.8}\n",
    "    #score = {word:score.cohesion_forward for word, score in nouns.items() if 1.0 > int(score['score']) >=0.6}\n",
    "    \n",
    "    Wtokenizer = MaxScoreTokenizer(scores=cohesion_score)  \n",
    "    #Ntokenizer = MaxScoreTokenizer(scores=score)\n",
    "    return Wtokenizer"
   ]
  },
  {
   "cell_type": "code",
   "execution_count": 13,
   "metadata": {},
   "outputs": [
    {
     "name": "stdout",
     "output_type": "stream",
     "text": [
      "training was done. used memory 0.385 Gbry 0.255 Gb\n",
      "all cohesion probabilities was computed. # words = 59465\n",
      "all branching entropies was computed # words = 39925\n",
      "all accessor variety was computed # words = 39925\n"
     ]
    }
   ],
   "source": [
    "QA['more_clear']=QA.contents.apply(lambda x: re.sub('[^ㄱ-ㅎ ㅏ-ㅣ가-힣A-Za-z]+',' ',x))\n",
    "WT=soytokenizer(QA)\n",
    "QA['soytoken']=QA.contents.apply(lambda x: WT.tokenize(x))"
   ]
  },
  {
   "cell_type": "code",
   "execution_count": 14,
   "metadata": {},
   "outputs": [],
   "source": [
    "def Kiwi_nouns(DF):\n",
    "    kiwi = Kiwi(num_workers=16)\n",
    "    kiwi.prepare()\n",
    "    a=[]\n",
    "    Total=[]\n",
    "    for result in kiwi.analyze(DF.contents, top_n=1):\n",
    "        R=result[0]\n",
    "        for i in range(len(R[0])):\n",
    "            if R[0][i][1] in ['NNG','NNP']:\n",
    "                a.append(R[0][i][0])\n",
    "            if  R[0][i][1] in ['VV','VA']:\n",
    "                a.append(R[0][i][0]+'다')\n",
    "        Total.append(a)\n",
    "        a=[]\n",
    "    target_title = [[each_word for each_word in each_doc if each_word] for each_doc in Total]\n",
    "    return target_title"
   ]
  },
  {
   "cell_type": "code",
   "execution_count": 15,
   "metadata": {},
   "outputs": [],
   "source": [
    "docs=QA.contents\n",
    "QA['kiwi_nouns']=Kiwi_nouns(QA)"
   ]
  },
  {
   "cell_type": "code",
   "execution_count": 70,
   "metadata": {},
   "outputs": [],
   "source": [
    "def Get_unique_nouns(DF):\n",
    "    New=[]\n",
    "    Total=[]\n",
    "    Stopwords=['클릭','소통','등급','감사','안녕','리딩','답변','댓글','엄청',\n",
    "                '등급', '기본', '안내', '규정', '체계'\n",
    "              ,'오늘','친구',' ᆸ','확인','글','일','와인','드리다','계시다'\n",
    "              '되다','있다','여쭈다','브','라','마리아','주','쥬브','리','코',\n",
    "              '하다','가다','나다','스파클','페어','리슬',\n",
    "              '알다','계시다','나오다','들다','부탁','사다','어떻다','대하다',\n",
    "              '되다','보다','보이다','나누다','이야기','즐기다','살다','비다','먹다',\n",
    "              '마시다','같다','좋다']\n",
    "    for ind in tqdm(range(len(DF))):\n",
    "        S=DF.soytoken[ind]\n",
    "        K=DF.kiwi_nouns[ind]\n",
    "        \n",
    "        for q in S:\n",
    "            for w in range(1,len(K)):\n",
    "                e=K[w]\n",
    "                s=K[w-1]\n",
    "                if q.startswith(s) and q.endswith(e):\n",
    "                    New.append(q)\n",
    "                else:\n",
    "                    New.append(K[w-1])\n",
    "                    New.append(K[w])\n",
    "        NEW=[i for i in list(set(New)) if i not in Stopwords if len(i) > 1 and(i not in ['향','잔'])]\n",
    "        Total.append(NEW)\n",
    "        New=[]\n",
    "    return Total\n",
    "    \n",
    "    "
   ]
  },
  {
   "cell_type": "code",
   "execution_count": 71,
   "metadata": {},
   "outputs": [
    {
     "name": "stderr",
     "output_type": "stream",
     "text": [
      "100%|██████████| 7182/7182 [00:04<00:00, 1657.76it/s]\n"
     ]
    }
   ],
   "source": [
    "QA['NOUNS']=Get_unique_nouns(QA)"
   ]
  },
  {
   "cell_type": "code",
   "execution_count": 67,
   "metadata": {},
   "outputs": [],
   "source": [
    "def Tokeninzing(DF):\n",
    "    stopword=[ '와인','마시다','하다','있다','어제','이기',\n",
    "              '댓글', '대하다','클릭', '드리다','체계',\n",
    "               '댓글', '글','답변','소통','등업',\n",
    "               '이렇다','대부분','그렇다','그러다',\n",
    "                '감사', '되다', '등급', '기본', '안내', '규정', '체계'\n",
    "               '와쌉','계시다','사람','읽다','하다','먹다',\n",
    "               '가능','가다','가요','가져가다','가지다','그러다',' ㅂ','ㅁ','안녕','안녕하세요']\n",
    "    \n",
    "    kiwi = Kiwi(num_workers=16)\n",
    "    kiwi.prepare()\n",
    "    E=[]\n",
    "    e=[]\n",
    "    for each_doc in kiwi.analyze(DF['contents'], top_n=1):\n",
    "        for each_word in each_doc[0][0]:\n",
    "            if each_word[0] not in stopword:\n",
    "                if ('VV' in each_word[1]) or ('VA' in each_word[1]):\n",
    "                    word=each_word[0] + '다'\n",
    "                    if word not in stopword:\n",
    "                        e.append(word)\n",
    "                if ('NNG' in each_word[1]) or ('NNP' in each_word[1]):\n",
    "                    e.append(each_word[0])\n",
    "                if each_word[0] =='리딩':\n",
    "                    e.append('브'+each_word[0])\n",
    "                if each_word[0] =='페어':\n",
    "                    e.append(each_word[0]+'링')\n",
    "            else:\n",
    "                pass\n",
    "        E.append(e)\n",
    "        e=[]\n",
    "    temp_title=E\n",
    "        \n",
    "#     temp_title = [[each_word[0] if ('NNG' in each_word[1]) or ('NNP' in each_word[1])\n",
    "#                   else each_word[0] + '다' if ('VV' in each_word[1]) or ('VA' in each_word[1])\n",
    "#                   else None for each_word in each_doc[0][0]]\n",
    "#                   for each_doc in kiwi.analyze(DF['contents'], top_n=1)]\n",
    "    target_title = [[each_word for each_word in each_doc if each_word] for each_doc in temp_title]\n",
    "    DF['token']=target_title\n",
    "    return DF"
   ]
  },
  {
   "cell_type": "code",
   "execution_count": 68,
   "metadata": {},
   "outputs": [],
   "source": [
    "QA=Tokeninzing(QA)\n",
    "REC=Tokeninzing(REC)"
   ]
  },
  {
   "cell_type": "code",
   "execution_count": 69,
   "metadata": {},
   "outputs": [],
   "source": [
    "QA['corpus']=QA.NOUNS.apply(lambda x: ' '.join(x))\n",
    "#REC['corpus']=REC.NOUNS.apply(lambda x: ' '.join(x))"
   ]
  },
  {
   "cell_type": "code",
   "execution_count": 27,
   "metadata": {},
   "outputs": [],
   "source": [
    "QA['doc_len']=QA.more_clear.apply(lambda x: len(x))"
   ]
  },
  {
   "cell_type": "markdown",
   "metadata": {},
   "source": [
    "# 빈도분석\n"
   ]
  },
  {
   "cell_type": "code",
   "execution_count": 79,
   "metadata": {},
   "outputs": [],
   "source": [
    "WORDS=[aa for a in QA.NOUNS for aa in a]\n",
    "from collections import Counter\n",
    "count = Counter(WORDS)"
   ]
  },
  {
   "cell_type": "code",
   "execution_count": 80,
   "metadata": {
    "scrolled": true
   },
   "outputs": [
    {
     "data": {
      "text/html": [
       "<div>\n",
       "<style scoped>\n",
       "    .dataframe tbody tr th:only-of-type {\n",
       "        vertical-align: middle;\n",
       "    }\n",
       "\n",
       "    .dataframe tbody tr th {\n",
       "        vertical-align: top;\n",
       "    }\n",
       "\n",
       "    .dataframe thead th {\n",
       "        text-align: right;\n",
       "    }\n",
       "</style>\n",
       "<table border=\"1\" class=\"dataframe\">\n",
       "  <thead>\n",
       "    <tr style=\"text-align: right;\">\n",
       "      <th></th>\n",
       "      <th>0</th>\n",
       "      <th>1</th>\n",
       "    </tr>\n",
       "  </thead>\n",
       "  <tbody>\n",
       "    <tr>\n",
       "      <th>88</th>\n",
       "      <td>없다</td>\n",
       "      <td>1378</td>\n",
       "    </tr>\n",
       "    <tr>\n",
       "      <th>454</th>\n",
       "      <td>싸다</td>\n",
       "      <td>1207</td>\n",
       "    </tr>\n",
       "    <tr>\n",
       "      <th>140</th>\n",
       "      <td>가격</td>\n",
       "      <td>1106</td>\n",
       "    </tr>\n",
       "    <tr>\n",
       "      <th>122</th>\n",
       "      <td>괜찮다</td>\n",
       "      <td>1042</td>\n",
       "    </tr>\n",
       "    <tr>\n",
       "      <th>213</th>\n",
       "      <td>추천</td>\n",
       "      <td>1026</td>\n",
       "    </tr>\n",
       "    <tr>\n",
       "      <th>25</th>\n",
       "      <td>정도</td>\n",
       "      <td>1018</td>\n",
       "    </tr>\n",
       "    <tr>\n",
       "      <th>55</th>\n",
       "      <td>모르다</td>\n",
       "      <td>756</td>\n",
       "    </tr>\n",
       "    <tr>\n",
       "      <th>373</th>\n",
       "      <td>구매</td>\n",
       "      <td>744</td>\n",
       "    </tr>\n",
       "    <tr>\n",
       "      <th>109</th>\n",
       "      <td>받다</td>\n",
       "      <td>675</td>\n",
       "    </tr>\n",
       "    <tr>\n",
       "      <th>8</th>\n",
       "      <td>보관</td>\n",
       "      <td>663</td>\n",
       "    </tr>\n",
       "    <tr>\n",
       "      <th>384</th>\n",
       "      <td>질문</td>\n",
       "      <td>648</td>\n",
       "    </tr>\n",
       "    <tr>\n",
       "      <th>3</th>\n",
       "      <td>오다</td>\n",
       "      <td>623</td>\n",
       "    </tr>\n",
       "    <tr>\n",
       "      <th>36</th>\n",
       "      <td>많다</td>\n",
       "      <td>587</td>\n",
       "    </tr>\n",
       "    <tr>\n",
       "      <th>19</th>\n",
       "      <td>맛있다</td>\n",
       "      <td>580</td>\n",
       "    </tr>\n",
       "    <tr>\n",
       "      <th>175</th>\n",
       "      <td>행사</td>\n",
       "      <td>557</td>\n",
       "    </tr>\n",
       "    <tr>\n",
       "      <th>28</th>\n",
       "      <td>생각</td>\n",
       "      <td>543</td>\n",
       "    </tr>\n",
       "    <tr>\n",
       "      <th>519</th>\n",
       "      <td>셀러</td>\n",
       "      <td>507</td>\n",
       "    </tr>\n",
       "    <tr>\n",
       "      <th>345</th>\n",
       "      <td>알리다</td>\n",
       "      <td>501</td>\n",
       "    </tr>\n",
       "    <tr>\n",
       "      <th>78</th>\n",
       "      <td>빈티지</td>\n",
       "      <td>498</td>\n",
       "    </tr>\n",
       "    <tr>\n",
       "      <th>77</th>\n",
       "      <td>와린</td>\n",
       "      <td>495</td>\n",
       "    </tr>\n",
       "    <tr>\n",
       "      <th>146</th>\n",
       "      <td>이마트</td>\n",
       "      <td>476</td>\n",
       "    </tr>\n",
       "    <tr>\n",
       "      <th>264</th>\n",
       "      <td>레드</td>\n",
       "      <td>468</td>\n",
       "    </tr>\n",
       "    <tr>\n",
       "      <th>282</th>\n",
       "      <td>화이트</td>\n",
       "      <td>431</td>\n",
       "    </tr>\n",
       "    <tr>\n",
       "      <th>371</th>\n",
       "      <td>선물</td>\n",
       "      <td>430</td>\n",
       "    </tr>\n",
       "    <tr>\n",
       "      <th>330</th>\n",
       "      <td>문의</td>\n",
       "      <td>422</td>\n",
       "    </tr>\n",
       "    <tr>\n",
       "      <th>131</th>\n",
       "      <td>구입</td>\n",
       "      <td>405</td>\n",
       "    </tr>\n",
       "    <tr>\n",
       "      <th>292</th>\n",
       "      <td>정보</td>\n",
       "      <td>399</td>\n",
       "    </tr>\n",
       "    <tr>\n",
       "      <th>74</th>\n",
       "      <td>좋아하다</td>\n",
       "      <td>373</td>\n",
       "    </tr>\n",
       "    <tr>\n",
       "      <th>745</th>\n",
       "      <td>처음</td>\n",
       "      <td>370</td>\n",
       "    </tr>\n",
       "    <tr>\n",
       "      <th>123</th>\n",
       "      <td>느끼다</td>\n",
       "      <td>353</td>\n",
       "    </tr>\n",
       "    <tr>\n",
       "      <th>26</th>\n",
       "      <td>브리딩</td>\n",
       "      <td>353</td>\n",
       "    </tr>\n",
       "    <tr>\n",
       "      <th>18</th>\n",
       "      <td>검색</td>\n",
       "      <td>353</td>\n",
       "    </tr>\n",
       "    <tr>\n",
       "      <th>68</th>\n",
       "      <td>찾다</td>\n",
       "      <td>352</td>\n",
       "    </tr>\n",
       "    <tr>\n",
       "      <th>22</th>\n",
       "      <td>얼마</td>\n",
       "      <td>350</td>\n",
       "    </tr>\n",
       "    <tr>\n",
       "      <th>641</th>\n",
       "      <td>그렇다</td>\n",
       "      <td>346</td>\n",
       "    </tr>\n",
       "    <tr>\n",
       "      <th>236</th>\n",
       "      <td>시간</td>\n",
       "      <td>344</td>\n",
       "    </tr>\n",
       "    <tr>\n",
       "      <th>337</th>\n",
       "      <td>구하다</td>\n",
       "      <td>341</td>\n",
       "    </tr>\n",
       "    <tr>\n",
       "      <th>429</th>\n",
       "      <td>시음</td>\n",
       "      <td>338</td>\n",
       "    </tr>\n",
       "    <tr>\n",
       "      <th>286</th>\n",
       "      <td>고민</td>\n",
       "      <td>337</td>\n",
       "    </tr>\n",
       "    <tr>\n",
       "      <th>121</th>\n",
       "      <td>느낌</td>\n",
       "      <td>336</td>\n",
       "    </tr>\n",
       "    <tr>\n",
       "      <th>164</th>\n",
       "      <td>맞다</td>\n",
       "      <td>333</td>\n",
       "    </tr>\n",
       "    <tr>\n",
       "      <th>441</th>\n",
       "      <td>크다</td>\n",
       "      <td>330</td>\n",
       "    </tr>\n",
       "    <tr>\n",
       "      <th>99</th>\n",
       "      <td>와린이</td>\n",
       "      <td>326</td>\n",
       "    </tr>\n",
       "    <tr>\n",
       "      <th>290</th>\n",
       "      <td>다르다</td>\n",
       "      <td>325</td>\n",
       "    </tr>\n",
       "    <tr>\n",
       "      <th>301</th>\n",
       "      <td>사람</td>\n",
       "      <td>321</td>\n",
       "    </tr>\n",
       "    <tr>\n",
       "      <th>270</th>\n",
       "      <td>따다</td>\n",
       "      <td>316</td>\n",
       "    </tr>\n",
       "    <tr>\n",
       "      <th>269</th>\n",
       "      <td>코르크</td>\n",
       "      <td>315</td>\n",
       "    </tr>\n",
       "    <tr>\n",
       "      <th>285</th>\n",
       "      <td>어울리다</td>\n",
       "      <td>312</td>\n",
       "    </tr>\n",
       "    <tr>\n",
       "      <th>802</th>\n",
       "      <td>스다</td>\n",
       "      <td>309</td>\n",
       "    </tr>\n",
       "    <tr>\n",
       "      <th>14</th>\n",
       "      <td>차이</td>\n",
       "      <td>306</td>\n",
       "    </tr>\n",
       "  </tbody>\n",
       "</table>\n",
       "</div>"
      ],
      "text/plain": [
       "        0     1\n",
       "88     없다  1378\n",
       "454    싸다  1207\n",
       "140    가격  1106\n",
       "122   괜찮다  1042\n",
       "213    추천  1026\n",
       "25     정도  1018\n",
       "55    모르다   756\n",
       "373    구매   744\n",
       "109    받다   675\n",
       "8      보관   663\n",
       "384    질문   648\n",
       "3      오다   623\n",
       "36     많다   587\n",
       "19    맛있다   580\n",
       "175    행사   557\n",
       "28     생각   543\n",
       "519    셀러   507\n",
       "345   알리다   501\n",
       "78    빈티지   498\n",
       "77     와린   495\n",
       "146   이마트   476\n",
       "264    레드   468\n",
       "282   화이트   431\n",
       "371    선물   430\n",
       "330    문의   422\n",
       "131    구입   405\n",
       "292    정보   399\n",
       "74   좋아하다   373\n",
       "745    처음   370\n",
       "123   느끼다   353\n",
       "26    브리딩   353\n",
       "18     검색   353\n",
       "68     찾다   352\n",
       "22     얼마   350\n",
       "641   그렇다   346\n",
       "236    시간   344\n",
       "337   구하다   341\n",
       "429    시음   338\n",
       "286    고민   337\n",
       "121    느낌   336\n",
       "164    맞다   333\n",
       "441    크다   330\n",
       "99    와린이   326\n",
       "290   다르다   325\n",
       "301    사람   321\n",
       "270    따다   316\n",
       "269   코르크   315\n",
       "285  어울리다   312\n",
       "802    스다   309\n",
       "14     차이   306"
      ]
     },
     "execution_count": 80,
     "metadata": {},
     "output_type": "execute_result"
    }
   ],
   "source": [
    "COUNT=pd.DataFrame(count.items())\n",
    "COUNT.sort_values(1,ascending=False)[:50]"
   ]
  },
  {
   "cell_type": "code",
   "execution_count": 125,
   "metadata": {},
   "outputs": [
    {
     "data": {
      "text/plain": [
       "<wordcloud.wordcloud.WordCloud at 0x7fac438676a0>"
      ]
     },
     "execution_count": 125,
     "metadata": {},
     "output_type": "execute_result"
    },
    {
     "data": {
      "image/png": "[encoded data removed]",
      "text/plain": [
       "<Figure size 432x288 with 1 Axes>"
      ]
     },
     "metadata": {
      "needs_background": "light"
     },
     "output_type": "display_data"
    }
   ],
   "source": [
    "from wordcloud import WordCloud\n",
    "from konlpy.tag import Twitter\n",
    "from collections import Counter\n",
    "import seaborn as sns\n",
    "\n",
    "WORDS=[aa for a in QA.NOUNS for aa in a]\n",
    "\n",
    "# 가장 많이 나온 단어부터 저장한다.\n",
    "counts = Counter(WORDS)\n",
    "tags = counts.most_common(700) \n",
    "lightwordcloud = WordCloud(background_color='white', \n",
    "                      width=480, height=480, \n",
    "                      font_path =\"AppleGothic\",\n",
    "                      colormap = 'twilight_r').generate_from_frequencies(dict(tags))\n",
    "\n",
    "plt.imshow(lightwordcloud)\n",
    "lightwordcloud.to_file('WordCloud.jpg')"
   ]
  },
  {
   "cell_type": "markdown",
   "metadata": {},
   "source": [
    "# 1\n"
   ]
  },
  {
   "cell_type": "markdown",
   "metadata": {},
   "source": [
    "# 2"
   ]
  },
  {
   "cell_type": "code",
   "execution_count": 106,
   "metadata": {},
   "outputs": [],
   "source": [
    "def get_text_with_word(word):\n",
    "    l=re.findall('(ㅠㅠ)',word)\n",
    "    L=re.findall('(ㅜㅜ)',word)\n",
    "    i=re.findall('(\\?\\?)',word)\n",
    "    return len(l)+len(i)+len(L)"
   ]
  },
  {
   "cell_type": "code",
   "execution_count": 107,
   "metadata": {
    "scrolled": true
   },
   "outputs": [],
   "source": [
    "QA['pain']=QA.contents.apply(lambda x :'pain' if get_text_with_word(x) != 0 else '')"
   ]
  },
  {
   "cell_type": "code",
   "execution_count": 108,
   "metadata": {},
   "outputs": [],
   "source": [
    "PAIN=QA[QA.pain!='']"
   ]
  },
  {
   "cell_type": "code",
   "execution_count": 109,
   "metadata": {},
   "outputs": [],
   "source": [
    "DOCLEN=QA[QA.doc_len>165] #2720"
   ]
  },
  {
   "cell_type": "code",
   "execution_count": null,
   "metadata": {},
   "outputs": [],
   "source": [
    "from gensim.models import Word2Vec\n",
    "from sklearn.decomposition import PCA\n",
    "    \n",
    "def plot_2d_graph(vocabs, xs, ys):\n",
    "    plt.figure(figsize=(20 ,20))\n",
    "    font_name = font_manager.FontProperties(fname='c:\\\\windows\\\\fonts\\\\nanumbarungothic-yethangul.ttf',\n",
    "                                           ).get_name()\n",
    "    rc('font', family=font_name)\n",
    "    rc('font', size=15)\n",
    "    plt.scatter(xs, ys, marker = 'o')\n",
    "    for i, v in enumerate(vocabs):\n",
    "        plt.annotate(v, xy=(xs[i], ys[i]))\n",
    "\n",
    "def Token2vec(DF,mincount):\n",
    "    model = Word2Vec(sentences = DF.NOUNS, min_count = mincount, workers = 6, sg = 0)\n",
    "    word_vectors = model.wv\n",
    "    pca = PCA(n_components=5)\n",
    "    vocabs = list(model.wv.index_to_key)\n",
    "    word_vocab_list = [model.wv[v] for v in vocabs]\n",
    "    xys = pca.fit_transform(word_vocab_list)\n",
    "    xs = xys[:,0]\n",
    "    ys = xys[:,1]\n",
    "    plot_2d_graph(vocabs, xs, ys)"
   ]
  },
  {
   "cell_type": "code",
   "execution_count": null,
   "metadata": {
    "scrolled": true
   },
   "outputs": [],
   "source": [
    "#Token2vec(QA,10)"
   ]
  },
  {
   "cell_type": "code",
   "execution_count": null,
   "metadata": {},
   "outputs": [],
   "source": [
    "def drop_certain_words(corpus, sparse_matrix, drop_words):\n",
    "    drop_words_index = [np.where(corpus == word)[0][0] for word in drop_words]\n",
    "    to_keep = sorted(set(range(sparse_matrix.shape[1])) - set(drop_words_index))\n",
    "    corpus = corpus[to_keep]\n",
    "    sparse_matrix = sparse_matrix[:, to_keep]\n",
    "    return corpus, sparse_matrix"
   ]
  },
  {
   "cell_type": "code",
   "execution_count": 110,
   "metadata": {},
   "outputs": [],
   "source": [
    "from sklearn.manifold import TSNE\n",
    "from sklearn.feature_extraction.text import CountVectorizer\n",
    "from sklearn.feature_extraction.text import TfidfVectorizer\n",
    "import matplotlib.pyplot as plt\n",
    "from matplotlib import font_manager, rc\n",
    "\n",
    "def TFIDF(DF):\n",
    "    tfidv = TfidfVectorizer(min_df=0.01).fit(DF.corpus)\n",
    "    #tfidf = TfidfVectorizer(max_features = 100, max_df=0.95, min_df=0).fit_transform(DF.corpus)# 상위 100개\n",
    "    TFIDF=tfidv.transform(DF.corpus)\n",
    "    #data_array = TFIDF.toarray()\n",
    "    #text=tfidv.get_feature_names()\n",
    "    return tfidv,TFIDF"
   ]
  },
  {
   "cell_type": "code",
   "execution_count": 113,
   "metadata": {},
   "outputs": [],
   "source": [
    "\n",
    "from sklearn.decomposition import LatentDirichletAllocation\n",
    "#tfidv,tfidf=TFIDF(QA)\n",
    "tfidv,tfidf=TFIDF(QA)\n",
    "lda=LatentDirichletAllocation(n_components=3)\n",
    "lda.fit(tfidf)\n",
    "\n",
    "def display_topics(model, feature_names, no_top_words):\n",
    "    topics = []\n",
    "    for topic_idx, topic in enumerate(model.components_):\n",
    "        important_words = [feature_names[i] for i in topic.argsort()[:-no_top_words - 1:-1]]\n",
    "        print( f\"Topic {topic_idx}\")\n",
    "        print(\",\".join(important_words))\n",
    "        topics.append(important_words)\n",
    "    return topics"
   ]
  },
  {
   "cell_type": "code",
   "execution_count": 114,
   "metadata": {
    "scrolled": true
   },
   "outputs": [
    {
     "name": "stdout",
     "output_type": "stream",
     "text": [
      "['괜찮다', '가격', '추천', '먹다', '이마트', '화이트', '어울리다', '레드', '팔다', '고민', '오다', '장터', '없다', '냉장고', '맛있다', '종류', '좋아하다', '스다', '낫다', '넣다']\n",
      "Topic 0\n",
      "괜찮다,가격,추천,먹다,이마트,화이트,어울리다,레드,팔다,고민,오다,장터,없다,냉장고,맛있다,종류,좋아하다,스다,낫다,넣다\n",
      "['빈티지', '브리딩', '정도', '시음', '먹다', '시간', '샴페인', '느끼다', '질문', '차이', '셀러', '다르다', '숙성', '보관', '맛있다', '오픈', '그렇다', '없다', '크다', '적기']\n",
      "Topic 1\n",
      "빈티지,브리딩,정도,시음,먹다,시간,샴페인,느끼다,질문,차이,셀러,다르다,숙성,보관,맛있다,오픈,그렇다,없다,크다,적기\n",
      "['받다', '싸다', '없다', '선물', '행사', '정보', '가격', '모르다', '구매', '검색', '코르크', '구입', '괜찮다', '사람', '구하다', '알리다', '와린', '많다', '추천', '오다']\n",
      "Topic 2\n",
      "받다,싸다,없다,선물,행사,정보,가격,모르다,구매,검색,코르크,구입,괜찮다,사람,구하다,알리다,와린,많다,추천,오다\n"
     ]
    }
   ],
   "source": [
    "topic=display_topics(lda,tfidv.get_feature_names(),20)"
   ]
  },
  {
   "cell_type": "code",
   "execution_count": null,
   "metadata": {},
   "outputs": [],
   "source": [
    "def closer_look(df, topic_num, content, limit=40):\n",
    "    each_topic_df = df[df['topic label'] == topic_num]\n",
    "    print(each_topic_df[['topic prob', '제목', '본문', '댓글']].sort_values(by='topic prob', ascending=False)[content][:limit])"
   ]
  },
  {
   "cell_type": "code",
   "execution_count": 119,
   "metadata": {},
   "outputs": [
    {
     "data": {
      "text/plain": [
       "10"
      ]
     },
     "execution_count": 119,
     "metadata": {},
     "output_type": "execute_result"
    }
   ],
   "source": [
    "lda.n_iter_"
   ]
  },
  {
   "cell_type": "code",
   "execution_count": null,
   "metadata": {
    "scrolled": true
   },
   "outputs": [],
   "source": [
    "import pyLDAvis.gensim_models\n",
    "from gensim import corpora\n",
    "import gensim"
   ]
  },
  {
   "cell_type": "markdown",
   "metadata": {},
   "source": [
    "# gensim"
   ]
  },
  {
   "cell_type": "code",
   "execution_count": null,
   "metadata": {
    "scrolled": true
   },
   "outputs": [],
   "source": [
    "Token=QA.NOUNS\n",
    "dictionary = corpora.Dictionary(Token)\n",
    "corpus = [dictionary.doc2bow(text) for text in Token]\n",
    "\n",
    "NUM_TOPICS = 10 #20개의 토픽, k=20\n",
    "ldamodel = gensim.models.ldamodel.LdaModel(corpus, num_topics = NUM_TOPICS, id2word=dictionary, passes=30)\n",
    "topics = ldamodel.print_topics(num_words=4)"
   ]
  },
  {
   "cell_type": "code",
   "execution_count": null,
   "metadata": {},
   "outputs": [],
   "source": [
    "pyLDAvis.enable_notebook()\n",
    "vis = pyLDAvis.gensim_models.prepare(ldamodel, corpus, dictionary)\n",
    "#vis = pyLDAvis.gensim_models.prepare(lda,QA.corpus,tfidv.get_feature_names())\n",
    "pyLDAvis.display(vis)"
   ]
  },
  {
   "cell_type": "code",
   "execution_count": null,
   "metadata": {
    "scrolled": true
   },
   "outputs": [],
   "source": [
    "from apyori import apriori\n",
    "re=list(apriori(QA.NOUNS,min_support=0.01))\n",
    "df=pd.DataFrame(re)\n",
    "df['length']=df['items'].apply(lambda x: len(x))\n",
    "df=df[(df.length ==2) & (df.support >= 0.01)].sort_values('support',ascending=False) "
   ]
  },
  {
   "cell_type": "code",
   "execution_count": null,
   "metadata": {},
   "outputs": [],
   "source": [
    "import networkx as nx\n",
    "G=nx.Graph()\n",
    "ar=list(df['items'][:50])\n",
    "G.add_edges_from(ar)\n",
    "\n",
    "pr=nx.pagerank(G)\n",
    "nsize=np.array([v for v in pr.values()])\n",
    "nsize=2000*(nsize-min(nsize))/(max(nsize)-min(nsize))\n",
    "\n",
    "pos=nx.circular_layout('G')"
   ]
  },
  {
   "cell_type": "code",
   "execution_count": null,
   "metadata": {},
   "outputs": [],
   "source": [
    "plt.figure(figsize=(16,12))\n",
    "plt.axis('off')\n",
    "\n",
    "nx.draw_networkx(G,font_family='AppleGothic',font_size=15,\n",
    "                 cmap=plt.cm.rainbow,node_size=nsize)\n",
    "plt.savefig('SNA.png')"
   ]
  },
  {
   "cell_type": "code",
   "execution_count": null,
   "metadata": {},
   "outputs": [],
   "source": []
  }
 ],
 "metadata": {
  "kernelspec": {
   "display_name": "Python 3",
   "language": "python",
   "name": "python3"
  },
  "language_info": {
   "codemirror_mode": {
    "name": "ipython",
    "version": 3
   },
   "file_extension": ".py",
   "mimetype": "text/x-python",
   "name": "python",
   "nbconvert_exporter": "python",
   "pygments_lexer": "ipython3",
   "version": "3.8.5"
  }
 },
 "nbformat": 4,
 "nbformat_minor": 2
}
