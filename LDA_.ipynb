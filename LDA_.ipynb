{
 "cells": [
  {
   "cell_type": "code",
   "execution_count": 1,
   "metadata": {},
   "outputs": [],
   "source": [
    "import os\n",
    "import json\n",
    "import re\n",
    "import pandas as pd\n",
    "import numpy as np\n",
    "from kiwipiepy import Kiwi\n",
    "from datetime import datetime"
   ]
  },
  {
   "cell_type": "code",
   "execution_count": 2,
   "metadata": {},
   "outputs": [],
   "source": [
    "def data_load(name):\n",
    "    with open(f'crawl_result/{name}.json','r',encoding='utf-8')as f:\n",
    "        data=json.load(f)\n",
    "        DF=pd.DataFrame(data['data'])\n",
    "    return DF"
   ]
  },
  {
   "cell_type": "code",
   "execution_count": 3,
   "metadata": {},
   "outputs": [],
   "source": [
    "QA=data_load('wineQ&A_text')\n",
    "rec=data_load('wine_recommend_text')"
   ]
  },
  {
   "cell_type": "code",
   "execution_count": 4,
   "metadata": {},
   "outputs": [],
   "source": [
    "def clean_text(text):\n",
    "    emoji_pattern = re.compile(\"[\"\n",
    "        u\"\\U0001F600-\\U0001F64F\"  # emoticons\n",
    "        u\"\\U0001F300-\\U0001F5FF\"  # symbols & pictographs\n",
    "        u\"\\U0001F680-\\U0001F6FF\"  # transport & map symbols\n",
    "        u\"\\U0001F1E0-\\U0001F1FF\"  # flags (iOS)\n",
    "                           \"]+\", flags=re.UNICODE)\n",
    "    \n",
    "    text=emoji_pattern.sub(r'', text)\n",
    "    re_pattern = r'http[s]?://(?:[a-zA-Z]|[0-9]|[$-_@.&+]|[!*\\\\(\\\\),|]|(?:%[0-9a-fA-F][0-9a-fA-F]))+'\n",
    "    text = re.sub(re_pattern, 'url', text)\n",
    "    text = re.sub('[+]', ',', text)\n",
    "    text=re.sub('[^ ㄱ-ㅣ가-힣A-Za-z0-9!?.,~[]]+',' ',text)\n",
    "    text=re.sub('[\\\\s *]',' ',text)\n",
    "    return text"
   ]
  },
  {
   "cell_type": "code",
   "execution_count": 5,
   "metadata": {},
   "outputs": [],
   "source": [
    "def cleaning(DF):\n",
    "    DF['clean_content']=DF.본문.apply(lambda x:clean_text(x))\n",
    "    DF['clean_title']=DF.제목.apply(lambda x:clean_text(x))\n",
    "    DF['contents']=DF.clean_title+DF.clean_content\n",
    "    return DF"
   ]
  },
  {
   "cell_type": "code",
   "execution_count": 6,
   "metadata": {},
   "outputs": [],
   "source": [
    "QA=cleaning(QA)\n",
    "REC=cleaning(rec)"
   ]
  },
  {
   "cell_type": "code",
   "execution_count": null,
   "metadata": {},
   "outputs": [],
   "source": [
    "D=[]\n",
    "for date in list(set(QA.날짜.tolist())):\n",
    "    c=0\n",
    "    for ind in QA.index:\n",
    "        if ''.join(date.split('.')[:3]) == ''.join(QA.loc[ind,'날짜'].split('.')[:3]):\n",
    "            c+=1\n",
    "    D.append({''.join(date.split('.')[:3]):c})"
   ]
  },
  {
   "cell_type": "code",
   "execution_count": 7,
   "metadata": {},
   "outputs": [],
   "source": [
    "QA['date']=QA.날짜.apply(lambda x: datetime.strptime(''.join(x.split('.')[:3]),'%Y%m%d'))"
   ]
  },
  {
   "cell_type": "code",
   "execution_count": 8,
   "metadata": {},
   "outputs": [],
   "source": [
    "Date_count=QA.groupby('date').count().loc[:,'본문']"
   ]
  },
  {
   "cell_type": "code",
   "execution_count": 28,
   "metadata": {},
   "outputs": [
    {
     "data": {
      "text/html": [
       "        <script type=\"text/javascript\">\n",
       "        window.PlotlyConfig = {MathJaxConfig: 'local'};\n",
       "        if (window.MathJax) {MathJax.Hub.Config({SVG: {font: \"STIX-Web\"}});}\n",
       "        if (typeof require !== 'undefined') {\n",
       "        require.undef(\"plotly\");\n",
       "        requirejs.config({\n",
       "            paths: {\n",
       "                'plotly': ['https://cdn.plot.ly/plotly-latest.min']\n",
       "            }\n",
       "        });\n",
       "        require(['plotly'], function(Plotly) {\n",
       "            window._Plotly = Plotly;\n",
       "        });\n",
       "        }\n",
       "        </script>\n",
       "        "
      ]
     },
     "metadata": {},
     "output_type": "display_data"
    }
   ],
   "source": [
    "import plotly.plotly as py\n",
    "import cufflinks as cf\n",
    "cf.go_offline(connected=True)\n",
    "#Date_count title=\"컨텐츠 수 \", xTitle=\"날짜\", yTitle='컨텐츠')"
   ]
  },
  {
   "cell_type": "code",
   "execution_count": 29,
   "metadata": {},
   "outputs": [
    {
     "ename": "ModuleNotFoundError",
     "evalue": "No module named 'plotly.validator_cache'",
     "output_type": "error",
     "traceback": [
      "\u001b[1;31m---------------------------------------------------------------------------\u001b[0m",
      "\u001b[1;31mModuleNotFoundError\u001b[0m                       Traceback (most recent call last)",
      "\u001b[1;32m<ipython-input-29-b33b5e82b9f0>\u001b[0m in \u001b[0;36m<module>\u001b[1;34m()\u001b[0m\n\u001b[1;32m----> 1\u001b[1;33m \u001b[0mDate_count\u001b[0m\u001b[1;33m.\u001b[0m\u001b[0miplot\u001b[0m\u001b[1;33m(\u001b[0m\u001b[0mkind\u001b[0m\u001b[1;33m=\u001b[0m\u001b[1;34m'line'\u001b[0m\u001b[1;33m)\u001b[0m\u001b[1;33m\u001b[0m\u001b[1;33m\u001b[0m\u001b[0m\n\u001b[0m",
      "\u001b[1;32mC:\\ProgramData\\Anaconda3\\lib\\site-packages\\cufflinks\\plotlytools.py\u001b[0m in \u001b[0;36m_iplot\u001b[1;34m(self, kind, data, layout, filename, sharing, title, xTitle, yTitle, zTitle, theme, colors, colorscale, fill, width, dash, mode, interpolation, symbol, size, barmode, sortbars, bargap, bargroupgap, bins, histnorm, histfunc, orientation, boxpoints, annotations, keys, bestfit, bestfit_colors, mean, mean_colors, categories, x, y, z, text, gridcolor, zerolinecolor, margin, labels, values, secondary_y, secondary_y_title, subplots, shape, error_x, error_y, error_type, locations, lon, lat, asFrame, asDates, asFigure, asImage, dimensions, asPlot, asUrl, online, **kwargs)\u001b[0m\n\u001b[0;32m    839\u001b[0m \t\t\t\tdata=df.to_iplot(colors=colors,colorscale=colorscale,kind=kind,interpolation=interpolation,fill=fill,width=width,dash=dash,sortbars=sortbars,keys=keys,\n\u001b[0;32m    840\u001b[0m                                                 \u001b[0mbestfit\u001b[0m\u001b[1;33m=\u001b[0m\u001b[0mbestfit\u001b[0m\u001b[1;33m,\u001b[0m\u001b[0mbestfit_colors\u001b[0m\u001b[1;33m=\u001b[0m\u001b[0mbestfit_colors\u001b[0m\u001b[1;33m,\u001b[0m\u001b[0mmean\u001b[0m\u001b[1;33m=\u001b[0m\u001b[0mmean\u001b[0m\u001b[1;33m,\u001b[0m\u001b[0mmean_colors\u001b[0m\u001b[1;33m=\u001b[0m\u001b[0mmean_colors\u001b[0m\u001b[1;33m,\u001b[0m\u001b[0masDates\u001b[0m\u001b[1;33m=\u001b[0m\u001b[0masDates\u001b[0m\u001b[1;33m,\u001b[0m\u001b[0mmode\u001b[0m\u001b[1;33m=\u001b[0m\u001b[0mmode\u001b[0m\u001b[1;33m,\u001b[0m\u001b[0msymbol\u001b[0m\u001b[1;33m=\u001b[0m\u001b[0msymbol\u001b[0m\u001b[1;33m,\u001b[0m\u001b[0msize\u001b[0m\u001b[1;33m=\u001b[0m\u001b[0msize\u001b[0m\u001b[1;33m,\u001b[0m\u001b[1;33m\u001b[0m\u001b[1;33m\u001b[0m\u001b[0m\n\u001b[1;32m--> 841\u001b[1;33m \t\t\t\t\t\ttext=text,**kwargs)\t\t\n\u001b[0m\u001b[0;32m    842\u001b[0m                                 \u001b[0mtrace_kw\u001b[0m\u001b[1;33m=\u001b[0m\u001b[0mcheck_kwargs\u001b[0m\u001b[1;33m(\u001b[0m\u001b[0mkwargs\u001b[0m\u001b[1;33m,\u001b[0m\u001b[0mTRACE_KWARGS\u001b[0m\u001b[1;33m)\u001b[0m\u001b[1;33m\u001b[0m\u001b[1;33m\u001b[0m\u001b[0m\n\u001b[0;32m    843\u001b[0m                                 \u001b[1;32mfor\u001b[0m \u001b[0mtrace\u001b[0m \u001b[1;32min\u001b[0m \u001b[0mdata\u001b[0m\u001b[1;33m:\u001b[0m\u001b[1;33m\u001b[0m\u001b[1;33m\u001b[0m\u001b[0m\n",
      "\u001b[1;32mC:\\ProgramData\\Anaconda3\\lib\\site-packages\\cufflinks\\plotlytools.py\u001b[0m in \u001b[0;36m_to_iplot\u001b[1;34m(self, colors, colorscale, kind, mode, interpolation, symbol, size, fill, width, dash, sortbars, keys, bestfit, bestfit_colors, opacity, mean, mean_colors, asDates, asTimestamp, text, **kwargs)\u001b[0m\n\u001b[0;32m    159\u001b[0m                 \u001b[0mlines_plotly\u001b[0m\u001b[1;33m=\u001b[0m\u001b[1;33m[\u001b[0m\u001b[0mBar\u001b[0m\u001b[1;33m(\u001b[0m\u001b[0mlines\u001b[0m\u001b[1;33m[\u001b[0m\u001b[0mkey\u001b[0m\u001b[1;33m]\u001b[0m\u001b[1;33m)\u001b[0m\u001b[1;33m.\u001b[0m\u001b[0mto_plotly_json\u001b[0m\u001b[1;33m(\u001b[0m\u001b[1;33m)\u001b[0m \u001b[1;32mfor\u001b[0m \u001b[0mkey\u001b[0m \u001b[1;32min\u001b[0m \u001b[0mkeys\u001b[0m\u001b[1;33m]\u001b[0m\u001b[1;33m\u001b[0m\u001b[1;33m\u001b[0m\u001b[0m\n\u001b[0;32m    160\u001b[0m         \u001b[1;32melse\u001b[0m\u001b[1;33m:\u001b[0m\u001b[1;33m\u001b[0m\u001b[1;33m\u001b[0m\u001b[0m\n\u001b[1;32m--> 161\u001b[1;33m                 \u001b[0mlines_plotly\u001b[0m\u001b[1;33m=\u001b[0m\u001b[1;33m[\u001b[0m\u001b[0mScatter\u001b[0m\u001b[1;33m(\u001b[0m\u001b[0mlines\u001b[0m\u001b[1;33m[\u001b[0m\u001b[0mkey\u001b[0m\u001b[1;33m]\u001b[0m\u001b[1;33m)\u001b[0m\u001b[1;33m.\u001b[0m\u001b[0mto_plotly_json\u001b[0m\u001b[1;33m(\u001b[0m\u001b[1;33m)\u001b[0m \u001b[1;32mfor\u001b[0m \u001b[0mkey\u001b[0m \u001b[1;32min\u001b[0m \u001b[0mkeys\u001b[0m\u001b[1;33m]\u001b[0m\u001b[1;33m\u001b[0m\u001b[1;33m\u001b[0m\u001b[0m\n\u001b[0m\u001b[0;32m    162\u001b[0m         \u001b[1;32mfor\u001b[0m \u001b[0mtrace\u001b[0m \u001b[1;32min\u001b[0m \u001b[0mlines_plotly\u001b[0m\u001b[1;33m:\u001b[0m\u001b[1;33m\u001b[0m\u001b[1;33m\u001b[0m\u001b[0m\n\u001b[0;32m    163\u001b[0m                 \u001b[1;32mif\u001b[0m \u001b[0misinstance\u001b[0m\u001b[1;33m(\u001b[0m\u001b[0mtrace\u001b[0m\u001b[1;33m[\u001b[0m\u001b[1;34m'name'\u001b[0m\u001b[1;33m]\u001b[0m\u001b[1;33m,\u001b[0m\u001b[0mpd\u001b[0m\u001b[1;33m.\u001b[0m\u001b[0mTimestamp\u001b[0m\u001b[1;33m)\u001b[0m\u001b[1;33m:\u001b[0m\u001b[1;33m\u001b[0m\u001b[1;33m\u001b[0m\u001b[0m\n",
      "\u001b[1;32mC:\\ProgramData\\Anaconda3\\lib\\site-packages\\cufflinks\\plotlytools.py\u001b[0m in \u001b[0;36m<listcomp>\u001b[1;34m(.0)\u001b[0m\n\u001b[0;32m    159\u001b[0m                 \u001b[0mlines_plotly\u001b[0m\u001b[1;33m=\u001b[0m\u001b[1;33m[\u001b[0m\u001b[0mBar\u001b[0m\u001b[1;33m(\u001b[0m\u001b[0mlines\u001b[0m\u001b[1;33m[\u001b[0m\u001b[0mkey\u001b[0m\u001b[1;33m]\u001b[0m\u001b[1;33m)\u001b[0m\u001b[1;33m.\u001b[0m\u001b[0mto_plotly_json\u001b[0m\u001b[1;33m(\u001b[0m\u001b[1;33m)\u001b[0m \u001b[1;32mfor\u001b[0m \u001b[0mkey\u001b[0m \u001b[1;32min\u001b[0m \u001b[0mkeys\u001b[0m\u001b[1;33m]\u001b[0m\u001b[1;33m\u001b[0m\u001b[1;33m\u001b[0m\u001b[0m\n\u001b[0;32m    160\u001b[0m         \u001b[1;32melse\u001b[0m\u001b[1;33m:\u001b[0m\u001b[1;33m\u001b[0m\u001b[1;33m\u001b[0m\u001b[0m\n\u001b[1;32m--> 161\u001b[1;33m                 \u001b[0mlines_plotly\u001b[0m\u001b[1;33m=\u001b[0m\u001b[1;33m[\u001b[0m\u001b[0mScatter\u001b[0m\u001b[1;33m(\u001b[0m\u001b[0mlines\u001b[0m\u001b[1;33m[\u001b[0m\u001b[0mkey\u001b[0m\u001b[1;33m]\u001b[0m\u001b[1;33m)\u001b[0m\u001b[1;33m.\u001b[0m\u001b[0mto_plotly_json\u001b[0m\u001b[1;33m(\u001b[0m\u001b[1;33m)\u001b[0m \u001b[1;32mfor\u001b[0m \u001b[0mkey\u001b[0m \u001b[1;32min\u001b[0m \u001b[0mkeys\u001b[0m\u001b[1;33m]\u001b[0m\u001b[1;33m\u001b[0m\u001b[1;33m\u001b[0m\u001b[0m\n\u001b[0m\u001b[0;32m    162\u001b[0m         \u001b[1;32mfor\u001b[0m \u001b[0mtrace\u001b[0m \u001b[1;32min\u001b[0m \u001b[0mlines_plotly\u001b[0m\u001b[1;33m:\u001b[0m\u001b[1;33m\u001b[0m\u001b[1;33m\u001b[0m\u001b[0m\n\u001b[0;32m    163\u001b[0m                 \u001b[1;32mif\u001b[0m \u001b[0misinstance\u001b[0m\u001b[1;33m(\u001b[0m\u001b[0mtrace\u001b[0m\u001b[1;33m[\u001b[0m\u001b[1;34m'name'\u001b[0m\u001b[1;33m]\u001b[0m\u001b[1;33m,\u001b[0m\u001b[0mpd\u001b[0m\u001b[1;33m.\u001b[0m\u001b[0mTimestamp\u001b[0m\u001b[1;33m)\u001b[0m\u001b[1;33m:\u001b[0m\u001b[1;33m\u001b[0m\u001b[1;33m\u001b[0m\u001b[0m\n",
      "\u001b[1;32mC:\\ProgramData\\Anaconda3\\lib\\site-packages\\plotly\\graph_objs\\_scatter.py\u001b[0m in \u001b[0;36m__init__\u001b[1;34m(self, arg, cliponaxis, connectgaps, customdata, customdatasrc, dx, dy, error_x, error_y, fill, fillcolor, groupnorm, hoverinfo, hoverinfosrc, hoverlabel, hoveron, hovertemplate, hovertemplatesrc, hovertext, hovertextsrc, ids, idssrc, legendgroup, line, marker, meta, metasrc, mode, name, opacity, orientation, r, rsrc, selected, selectedpoints, showlegend, stackgaps, stackgroup, stream, t, text, textfont, textposition, textpositionsrc, textsrc, texttemplate, texttemplatesrc, tsrc, uid, uirevision, unselected, visible, x, x0, xaxis, xcalendar, xperiod, xperiod0, xperiodalignment, xsrc, y, y0, yaxis, ycalendar, yperiod, yperiod0, yperiodalignment, ysrc, **kwargs)\u001b[0m\n",
      "\u001b[1;32mC:\\ProgramData\\Anaconda3\\lib\\site-packages\\plotly\\basedatatypes.py\u001b[0m in \u001b[0;36m__setitem__\u001b[1;34m(self, prop, value)\u001b[0m\n\u001b[0;32m   4790\u001b[0m             \u001b[1;32mdel\u001b[0m \u001b[0mself\u001b[0m\u001b[1;33m.\u001b[0m\u001b[0m_select_callbacks\u001b[0m\u001b[1;33m[\u001b[0m\u001b[1;33m:\u001b[0m\u001b[1;33m]\u001b[0m\u001b[1;33m\u001b[0m\u001b[1;33m\u001b[0m\u001b[0m\n\u001b[0;32m   4791\u001b[0m \u001b[1;33m\u001b[0m\u001b[0m\n\u001b[1;32m-> 4792\u001b[1;33m         \u001b[1;32mif\u001b[0m \u001b[0mcallback\u001b[0m\u001b[1;33m:\u001b[0m\u001b[1;33m\u001b[0m\u001b[1;33m\u001b[0m\u001b[0m\n\u001b[0m\u001b[0;32m   4793\u001b[0m             \u001b[0mself\u001b[0m\u001b[1;33m.\u001b[0m\u001b[0m_select_callbacks\u001b[0m\u001b[1;33m.\u001b[0m\u001b[0mappend\u001b[0m\u001b[1;33m(\u001b[0m\u001b[0mcallback\u001b[0m\u001b[1;33m)\u001b[0m\u001b[1;33m\u001b[0m\u001b[1;33m\u001b[0m\u001b[0m\n\u001b[0;32m   4794\u001b[0m \u001b[1;33m\u001b[0m\u001b[0m\n",
      "\u001b[1;32mC:\\ProgramData\\Anaconda3\\lib\\site-packages\\plotly\\basedatatypes.py\u001b[0m in \u001b[0;36m_get_validator\u001b[1;34m(self, prop)\u001b[0m\n\u001b[0;32m   4270\u001b[0m \u001b[1;33m\u001b[0m\u001b[0m\n\u001b[0;32m   4271\u001b[0m         \u001b[1;31m# Call superclass constructor\u001b[0m\u001b[1;33m\u001b[0m\u001b[1;33m\u001b[0m\u001b[1;33m\u001b[0m\u001b[0m\n\u001b[1;32m-> 4272\u001b[1;33m         \u001b[1;31m# ---------------------------\u001b[0m\u001b[1;33m\u001b[0m\u001b[1;33m\u001b[0m\u001b[1;33m\u001b[0m\u001b[0m\n\u001b[0m\u001b[0;32m   4273\u001b[0m         \u001b[0msuper\u001b[0m\u001b[1;33m(\u001b[0m\u001b[0mBaseLayoutHierarchyType\u001b[0m\u001b[1;33m,\u001b[0m \u001b[0mself\u001b[0m\u001b[1;33m)\u001b[0m\u001b[1;33m.\u001b[0m\u001b[0m__init__\u001b[0m\u001b[1;33m(\u001b[0m\u001b[0mplotly_name\u001b[0m\u001b[1;33m)\u001b[0m\u001b[1;33m\u001b[0m\u001b[1;33m\u001b[0m\u001b[0m\n\u001b[0;32m   4274\u001b[0m \u001b[1;33m\u001b[0m\u001b[0m\n",
      "\u001b[1;31mModuleNotFoundError\u001b[0m: No module named 'plotly.validator_cache'"
     ]
    }
   ],
   "source": [
    "Date_count.iplot(kind='line')"
   ]
  },
  {
   "cell_type": "code",
   "execution_count": null,
   "metadata": {},
   "outputs": [],
   "source": [
    "def Tokeninzing(DF):\n",
    "    kiwi = Kiwi(num_workers=16)\n",
    "    kiwi.prepare()\n",
    "    temp_title = [[each_word[0] if ('NNG' in each_word[1]) or ('NNP' in each_word[1])\n",
    "                  else each_word[0] + '다' if ('VV' in each_word[1]) or ('VA' in each_word[1])\n",
    "                  else None for each_word in each_doc[0][0]]\n",
    "                 for each_doc in kiwi.analyze(DF['contents'], top_n=1)]\n",
    "    target_title = [[each_word for each_word in each_doc if each_word] for each_doc in temp_title]\n",
    "    DF['token']=target_title\\n\",\n",
    "    return DF"
   ]
  },
  {
   "cell_type": "code",
   "execution_count": null,
   "metadata": {},
   "outputs": [],
   "source": [
    "QA=Tokeninzing(QA)\n",
    "REC=Tokeninzing(REC)"
   ]
  },
  {
   "cell_type": "code",
   "execution_count": null,
   "metadata": {},
   "outputs": [],
   "source": [
    "QA['corpus']=QA.token.apply(lambda x: ' '.join(x))\n",
    "REC['corpus']=REC.token.apply(lambda x: ' '.join(x))"
   ]
  },
  {
   "cell_type": "code",
   "execution_count": null,
   "metadata": {},
   "outputs": [],
   "source": [
    "QA['pain']=QA.contents.apply(lambda x :'pain' if len(re.findall('(ㅠㅠ)',x))!=0 else '')"
   ]
  },
  {
   "cell_type": "code",
   "execution_count": null,
   "metadata": {},
   "outputs": [],
   "source": [
    "P=QA[QA.pain!='']"
   ]
  },
  {
   "cell_type": "code",
   "execution_count": null,
   "metadata": {},
   "outputs": [],
   "source": [
    "import matplotlib.pyplot as plt\n",
    "from matplotlib import font_manager, rc\n",
    "\n",
    "def show_contents_length(DF):\n",
    "    font_name = font_manager.FontProperties(fname='C:/Windows/Fonts/NanumBarunGothic-YetHangul.ttf').get_name()\n",
    "    rc('font', family=font_name)\n",
    "    plt.figure(figsize=(10, 8))\n",
    "    print('컨텐츠의 최대 길이 :',max(len(l) for l in  DF.contents))\n",
    "    print('컨텐츠의 평균 길이 :',sum(map(len, QA.contents))/len(DF.contents))\n",
    "    plt.hist([len(s) for s in QA.contents], bins=50)\n",
    "    plt.xlabel('length of samples')\n",
    "    plt.ylabel('number of samples')\n",
    "    plt.show()\n",
    "    "
   ]
  },
  {
   "cell_type": "code",
   "execution_count": null,
   "metadata": {},
   "outputs": [],
   "source": [
    "Token2vec(QA,300)"
   ]
  },
  {
   "cell_type": "code",
   "execution_count": null,
   "metadata": {},
   "outputs": [],
   "source": [
    "\"# from wordcloud import WordCloud\\n\",\n",
    "    \"# import matplotlib.pyplot as plt\\n\",\n",
    "    \"\\n\",\n",
    "    \"# wordclouds=WordCloud(width=800,height=800,background_color='white',colormap='Greens')\\n\",\n",
    "    \"# from collections import Counter\\n\",\n",
    "    \"# count=Counter(text)\\n\",\n",
    "    \"# fig=plt.figure(figsize=(10,10))\\n\",\n",
    "    \"# plt.imshow(wordclouds.to_array())\\n\",\n",
    "    \"# plt.show()\""
   ]
  },
  {
   "cell_type": "code",
   "execution_count": null,
   "metadata": {},
   "outputs": [],
   "source": [
    "\"def drop_certain_words(corpus, sparse_matrix, drop_words):\\n\",\n",
    "    \"    drop_words_index = [np.where(corpus == word)[0][0] for word in drop_words]\\n\",\n",
    "    \"    to_keep = sorted(set(range(sparse_matrix.shape[1])) - set(drop_words_index))\\n\",\n",
    "    \"    corpus = corpus[to_keep]\\n\",\n",
    "    \"    sparse_matrix = sparse_matrix[:, to_keep]\\n\",\n",
    "    \"    return corpus, sparse_matrix\""
   ]
  },
  {
   "cell_type": "code",
   "execution_count": null,
   "metadata": {},
   "outputs": [],
   "source": [
    "from sklearn.decomposition import LatentDirichletAllocation\n",
    "tfidv,tfidf=TFIDF(QA)\n",
    "LatentDirichletAllocation(n_components=6)\n",
    "lda=LatentDirichletAllocation(n_components=6)\\n\",\n",
    "    \"lda.fit(tfidf)"
   ]
  },
  {
   "cell_type": "code",
   "execution_count": null,
   "metadata": {},
   "outputs": [],
   "source": [
    "def display_topics(model, feature_names, no_top_words):\\n\",\n",
    "    \"    topics = []\\n\",\n",
    "    \"    for topic_idx, topic in enumerate(model.components_):\\n\",\n",
    "    \"        important_words = [feature_names[i] for i in topic.argsort()[:-no_top_words - 1:-1]]\\n\",\n",
    "    \"\\n\",\n",
    "    \"        print(\\\"Topic %d:\\\" % topic_idx)\\n\",\n",
    "    \"        print(\\\" \\\".join(important_words))\\n\",\n",
    "    \"        topics.append(important_words)\\n\",\n",
    "    \"    return topics"
   ]
  },
  {
   "cell_type": "code",
   "execution_count": null,
   "metadata": {},
   "outputs": [],
   "source": [
    "words_list, TFIDF=drop_certain_words(np.array(TFIDF(QA)[0].get_feature_names()),\n",
    "                                     TFIDF(QA)[1],['와인','마시다','하다','있다'\n",
    "                                                   '댓글', '안내', '고수','답변','소통',\n",
    "                                                '이렇다','대부분','그렇다','그러다',\n",
    "                                                   '와쌉','계시다','사람','읽다',\n",
    "                                                   '가능','가다','가요','가져가다','가지다',\n",
    "                             ])"
   ]
  },
  {
   "cell_type": "code",
   "execution_count": null,
   "metadata": {},
   "outputs": [],
   "source": [
    "from sklearn.manifold import TSNE\\n\",\n",
    "    \"from sklearn.feature_extraction.text import CountVectorizer\\n\",\n",
    "    \"from sklearn.feature_extraction.text import TfidfVectorizer\\n\",\n",
    "    \"\\n\",\n",
    "    \"def TFIDF(DF):\\n\",\n",
    "    \"    tfidv = TfidfVectorizer(min_df=0.01).fit(DF.corpus)\\n\",\n",
    "    \"    #tfidf = TfidfVectorizer(max_features = 100, max_df=0.95, min_df=0).fit_transform(DF.corpus)# 상위 100개\\n\",\n",
    "    \"    TFIDF=tfidv.transform(DF.corpus)\\n\",\n",
    "    \"    #data_array = TFIDF.toarray()\\n\",\n",
    "    \"    #text=tfidv.get_feature_names()\\n\",\n",
    "    \"    return tfidv,TFIDF\\n\",\n",
    "    \"\\n\",\n",
    "    \"def Tsne(tfidv,TFIDF,perplexity,n_classes):\\n\",\n",
    "    \"    colors = 'firebrick darksalmon lightseagreen'.split()\\n\",\n",
    "    \"    tsne = TSNE(n_components=2, n_iter=10000, verbose=1 ,perplexity= perplexity)\\n\",\n",
    "    \"    Z = tsne.fit_transform(TFIDF.toarray().T)\\n\",\n",
    "    \"    print(Z[0:5])\\n\",\n",
    "    \"    print('Top words: ',len(Z))\\n\",\n",
    "    \"    tfidf_dict = tfidv.get_feature_names()\\n\",\n",
    "    \"    plt.figure(figsize=(10, 8))\\n\",\n",
    "    \"    plt.scatter(Z[:,0], Z[:,1])\\n\",\n",
    "    \"    for i in range(len(tfidf_dict)):\\n\",\n",
    "    \"        plt.annotate(s=tfidf_dict[i].encode(\\\"utf8\\\").decode(\\\"utf8\\\"), xy=(Z[i,0], Z[i,1]))\\n\",\n",
    "    \"    plt.draw()\\n\",\n",
    "    \"    \\n\",\n",
    "    \"#     for c in range(n_classes):\\n\",\n",
    "    \"#         idx = np.where(data == c)[0]\\n\",\n",
    "    \"#         Z_ = Z[idx]\\n\",\n",
    "    \"#         p.scatter(z_[:,0], z_[:,1], fill_color=colors[c], line_color=colors[c])    \\n\",\n",
    "    \"#     show(p)\""
   ]
  },
  {
   "cell_type": "code",
   "execution_count": null,
   "metadata": {},
   "outputs": [],
   "source": [
    "from gensim.models import Word2Vec\n",
    "from sklearn.decomposition import PCA\n",
    "    \n",
    "    def plot_2d_graph(vocabs, xs, ys):\n",
    "        plt.figure(figsize=(20 ,20))\n",
    "        font_name = font_manager.FontProperties(fname='C:/Windows/Fonts/NanumBarunGothic-YetHangul.ttf').get_name()\n",
    "        rc('font', family=font_name)\n",
    "        rc('font', size=15)\n",
    "        plt.scatter(xs, ys, marker = 'o')\n",
    "        for i, v in enumerate(vocabs):\n",
    "            plt.annotate(v, xy=(xs[i], ys[i]))\n",
    "    \n",
    "    def Token2vec(DF,mincount):\n",
    "        model = Word2Vec(sentences = DF.token, vector_size = 3, min_count = mincount, workers = 6, sg = 0)\n",
    "        word_vectors = model.wv\n",
    "        pca = PCA(n_components=2)\n",
    "        vocabs = list(model.wv.index_to_key)\n",
    "        word_vocab_list = [model.wv[v] for v in vocabs]\n",
    "        xys = pca.fit_transform(word_vocab_list)\n",
    "        xs = xys[:,0]\n",
    "        ys = xys[:,1]\n",
    "        plot_2d_graph(vocabs, xs, ys)"
   ]
  },
  {
   "cell_type": "code",
   "execution_count": null,
   "metadata": {},
   "outputs": [],
   "source": []
  },
  {
   "cell_type": "code",
   "execution_count": null,
   "metadata": {},
   "outputs": [],
   "source": []
  },
  {
   "cell_type": "code",
   "execution_count": null,
   "metadata": {},
   "outputs": [],
   "source": []
  },
  {
   "cell_type": "code",
   "execution_count": null,
   "metadata": {},
   "outputs": [],
   "source": [
    "kiwi = Kiwi(num_workers=16)\\n\",\n",
    "    \"kiwi.prepare()\\n\",\n",
    "    \"T=[[tt[0] if (tt[1] in ['NNG','NNP','SW']) and (tt[0] not in ['와인','글','댓글','등업','답변','질문','있다','되다','안녕','하다','마시','되다',\\n\",\n",
    "    \"                                                                   '등급','소통','감사','안내','클릭'\\n\",\n",
    "    \"                                                                ]) and (len(tt[0])>1)  \\n\",\n",
    "    \"               else None for tt in t[0][0]]\\n\",\n",
    "    \"            for t in kiwi.analyze(P)]\\n\",\n",
    "    \"\\n\",\n",
    "    \"T\\n\",\n",
    "    \"target_title = [[each_word for each_word in each_doc if each_word] for each_doc in T]\""
   ]
  },
  {
   "cell_type": "code",
   "execution_count": null,
   "metadata": {},
   "outputs": [],
   "source": [
    "import pyLDAvis.gensim\n",
    "from gensim import corpora\n",
    "import gensim"
   ]
  },
  {
   "cell_type": "code",
   "execution_count": null,
   "metadata": {},
   "outputs": [],
   "source": [
    "stopwords=['와인','마시다','하다','있다',\n",
    "  '댓글', '안내', '고수','답변','소통',\n",
    "'이렇다','대부분','그렇다','그러다',\n",
    "'와쌉','계시다','사람','읽다',\n",
    "'가능','가다','가요','가져가다','가지다'\n",
    "  ]"
   ]
  },
  {
   "cell_type": "code",
   "execution_count": null,
   "metadata": {},
   "outputs": [],
   "source": [
    "for t in QA.token:\n",
    "    for tt in t:\n",
    "        if tt not in stopwords:\n",
    "            token.append(tt)\n",
    "    Token.append(token)\n",
    "    token=[]"
   ]
  },
  {
   "cell_type": "markdown",
   "metadata": {},
   "source": [
    "# gensim"
   ]
  },
  {
   "cell_type": "code",
   "execution_count": null,
   "metadata": {},
   "outputs": [],
   "source": [
    "dictionary = corpora.Dictionary(Token)\n",
    "corpus = [dictionary.doc2bow(text) for text in Token]\n",
    "\n",
    "NUM_TOPICS = 6 #20개의 토픽, k=20\n",
    "ldamodel = gensim.models.ldamodel.LdaModel(corpus, num_topics = NUM_TOPICS, id2word=dictionary, passes=15)\n",
    "topics = ldamodel.print_topics(num_words=4)\n",
    "\n",
    "pyLDAvis.enable_notebook()\n",
    "vis = pyLDAvis.gensim.prepare(ldamodel, corpus, dictionary)\n",
    "pyLDAvis.display(vis)"
   ]
  }
 ],
 "metadata": {
  "kernelspec": {
   "display_name": "Python 3",
   "language": "python",
   "name": "python3"
  },
  "language_info": {
   "codemirror_mode": {
    "name": "ipython",
    "version": 3
   },
   "file_extension": ".py",
   "mimetype": "text/x-python",
   "name": "python",
   "nbconvert_exporter": "python",
   "pygments_lexer": "ipython3",
   "version": "3.6.10"
  }
 },
 "nbformat": 4,
 "nbformat_minor": 2
}
